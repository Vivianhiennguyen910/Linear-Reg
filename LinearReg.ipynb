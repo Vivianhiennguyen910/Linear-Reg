{
  "nbformat": 4,
  "nbformat_minor": 0,
  "metadata": {
    "colab": {
      "name": "LinearReg.ipynb",
      "provenance": []
    },
    "kernelspec": {
      "name": "python3",
      "display_name": "Python 3"
    }
  },
  "cells": [
    {
      "cell_type": "code",
      "metadata": {
        "id": "bSgMRDTNnTfg",
        "colab": {
          "base_uri": "https://localhost:8080/",
          "height": 122
        },
        "outputId": "0b15329d-8604-4064-a107-3e1046c9a380"
      },
      "source": [
        "from google.colab import drive \n",
        "drive.mount('/content/drive')"
      ],
      "execution_count": null,
      "outputs": [
        {
          "output_type": "stream",
          "text": [
            "Go to this URL in a browser: https://accounts.google.com/o/oauth2/auth?client_id=947318989803-6bn6qk8qdgf4n4g3pfee6491hc0brc4i.apps.googleusercontent.com&redirect_uri=urn%3aietf%3awg%3aoauth%3a2.0%3aoob&scope=email%20https%3a%2f%2fwww.googleapis.com%2fauth%2fdocs.test%20https%3a%2f%2fwww.googleapis.com%2fauth%2fdrive%20https%3a%2f%2fwww.googleapis.com%2fauth%2fdrive.photos.readonly%20https%3a%2f%2fwww.googleapis.com%2fauth%2fpeopleapi.readonly&response_type=code\n",
            "\n",
            "Enter your authorization code:\n",
            "··········\n",
            "Mounted at /content/drive\n"
          ],
          "name": "stdout"
        }
      ]
    },
    {
      "cell_type": "code",
      "metadata": {
        "id": "N5-VRSuFoRcg",
        "colab": {
          "base_uri": "https://localhost:8080/",
          "height": 34
        },
        "outputId": "d7257901-6be7-4ba8-ee3f-f7b67fed5ed9"
      },
      "source": [
        "!ls"
      ],
      "execution_count": null,
      "outputs": [
        {
          "output_type": "stream",
          "text": [
            "drive  sample_data\n"
          ],
          "name": "stdout"
        }
      ]
    },
    {
      "cell_type": "code",
      "metadata": {
        "id": "60ZXMQ-_ochN",
        "colab": {
          "base_uri": "https://localhost:8080/",
          "height": 204
        },
        "outputId": "63a93bf6-3209-451d-e71a-a7e96271e1c9"
      },
      "source": [
        "import numpy as np \n",
        "import pandas as pd \n",
        "import matplotlib.pyplot as plt\n",
        "\n",
        "data = pd.read_csv('/content/drive/My Drive/Colab Notebooks/HW1_DL/data_linear.csv')\n",
        "data.head()"
      ],
      "execution_count": null,
      "outputs": [
        {
          "output_type": "execute_result",
          "data": {
            "text/html": [
              "<div>\n",
              "<style scoped>\n",
              "    .dataframe tbody tr th:only-of-type {\n",
              "        vertical-align: middle;\n",
              "    }\n",
              "\n",
              "    .dataframe tbody tr th {\n",
              "        vertical-align: top;\n",
              "    }\n",
              "\n",
              "    .dataframe thead th {\n",
              "        text-align: right;\n",
              "    }\n",
              "</style>\n",
              "<table border=\"1\" class=\"dataframe\">\n",
              "  <thead>\n",
              "    <tr style=\"text-align: right;\">\n",
              "      <th></th>\n",
              "      <th>Diện tích</th>\n",
              "      <th>Giá</th>\n",
              "    </tr>\n",
              "  </thead>\n",
              "  <tbody>\n",
              "    <tr>\n",
              "      <th>0</th>\n",
              "      <td>30.0000</td>\n",
              "      <td>448.524</td>\n",
              "    </tr>\n",
              "    <tr>\n",
              "      <th>1</th>\n",
              "      <td>32.4138</td>\n",
              "      <td>509.248</td>\n",
              "    </tr>\n",
              "    <tr>\n",
              "      <th>2</th>\n",
              "      <td>34.8276</td>\n",
              "      <td>535.104</td>\n",
              "    </tr>\n",
              "    <tr>\n",
              "      <th>3</th>\n",
              "      <td>37.2414</td>\n",
              "      <td>551.432</td>\n",
              "    </tr>\n",
              "    <tr>\n",
              "      <th>4</th>\n",
              "      <td>39.6552</td>\n",
              "      <td>623.418</td>\n",
              "    </tr>\n",
              "  </tbody>\n",
              "</table>\n",
              "</div>"
            ],
            "text/plain": [
              "   Diện tích      Giá\n",
              "0    30.0000  448.524\n",
              "1    32.4138  509.248\n",
              "2    34.8276  535.104\n",
              "3    37.2414  551.432\n",
              "4    39.6552  623.418"
            ]
          },
          "metadata": {
            "tags": []
          },
          "execution_count": 95
        }
      ]
    },
    {
      "cell_type": "code",
      "metadata": {
        "id": "rfdiQTQwo-pY",
        "colab": {
          "base_uri": "https://localhost:8080/",
          "height": 297
        },
        "outputId": "c9b145a7-c413-4237-ed3e-be0d608c9155"
      },
      "source": [
        "data.plot.scatter(x='Diện tích', y='Giá')"
      ],
      "execution_count": null,
      "outputs": [
        {
          "output_type": "execute_result",
          "data": {
            "text/plain": [
              "<matplotlib.axes._subplots.AxesSubplot at 0x7f189f757c50>"
            ]
          },
          "metadata": {
            "tags": []
          },
          "execution_count": 96
        },
        {
          "output_type": "display_data",
          "data": {
            "image/png": "[encoded data removed]",
            "text/plain": [
              "<Figure size 432x288 with 1 Axes>"
            ]
          },
          "metadata": {
            "tags": [],
            "needs_background": "light"
          }
        }
      ]
    },
    {
      "cell_type": "code",
      "metadata": {
        "id": "0EbyiHvdpHJd",
        "colab": {
          "base_uri": "https://localhost:8080/",
          "height": 297
        },
        "outputId": "60170e18-9544-4c0d-bbd5-d9a5ae62c914"
      },
      "source": [
        "data = pd.read_csv('/content/drive/My Drive/Colab Notebooks/HW1_DL/data_linear.csv').values\n",
        "N = data.shape[0]\n",
        "x = data[:, 0].reshape(-1, 1)\n",
        "y = data[:, 1].reshape(-1, 1)\n",
        "\n",
        "plt.scatter(x,y)\n",
        "plt.xlabel('mét vuông')\n",
        "plt.ylabel('giá')"
      ],
      "execution_count": null,
      "outputs": [
        {
          "output_type": "execute_result",
          "data": {
            "text/plain": [
              "Text(0, 0.5, 'giá')"
            ]
          },
          "metadata": {
            "tags": []
          },
          "execution_count": 97
        },
        {
          "output_type": "display_data",
          "data": {
            "image/png": "[encoded data removed]",
            "text/plain": [
              "<Figure size 432x288 with 1 Axes>"
            ]
          },
          "metadata": {
            "tags": [],
            "needs_background": "light"
          }
        }
      ]
    },
    {
      "cell_type": "code",
      "metadata": {
        "id": "MrgyJrwep_un",
        "colab": {
          "base_uri": "https://localhost:8080/",
          "height": 527
        },
        "outputId": "4e7cec22-d690-4498-b29e-edd4b6a98408"
      },
      "source": [
        "x = 1/N * np.hstack((np.ones((N, 1)), x))\n",
        "\n",
        "w = np.array([0.,1.]).reshape(-1,1)\n",
        "\n",
        "x"
      ],
      "execution_count": null,
      "outputs": [
        {
          "output_type": "execute_result",
          "data": {
            "text/plain": [
              "array([[0.03333333, 1.        ],\n",
              "       [0.03333333, 1.08046   ],\n",
              "       [0.03333333, 1.16092   ],\n",
              "       [0.03333333, 1.24138   ],\n",
              "       [0.03333333, 1.32184   ],\n",
              "       [0.03333333, 1.4023    ],\n",
              "       [0.03333333, 1.48276   ],\n",
              "       [0.03333333, 1.56322   ],\n",
              "       [0.03333333, 1.64367667],\n",
              "       [0.03333333, 1.72413667],\n",
              "       [0.03333333, 1.80459667],\n",
              "       [0.03333333, 1.88505667],\n",
              "       [0.03333333, 1.96551667],\n",
              "       [0.03333333, 2.04597667],\n",
              "       [0.03333333, 2.12643667],\n",
              "       [0.03333333, 2.20689667],\n",
              "       [0.03333333, 2.28735667],\n",
              "       [0.03333333, 2.36781667],\n",
              "       [0.03333333, 2.44827667],\n",
              "       [0.03333333, 2.52873667],\n",
              "       [0.03333333, 2.60919667],\n",
              "       [0.03333333, 2.68965667],\n",
              "       [0.03333333, 2.77011333],\n",
              "       [0.03333333, 2.85057333],\n",
              "       [0.03333333, 2.93103333],\n",
              "       [0.03333333, 3.01149333],\n",
              "       [0.03333333, 3.09195333],\n",
              "       [0.03333333, 3.17241333],\n",
              "       [0.03333333, 3.25287333],\n",
              "       [0.03333333, 3.33333333]])"
            ]
          },
          "metadata": {
            "tags": []
          },
          "execution_count": 98
        }
      ]
    },
    {
      "cell_type": "code",
      "metadata": {
        "id": "joXFqI1hqYrI",
        "colab": {
          "base_uri": "https://localhost:8080/",
          "height": 1000
        },
        "outputId": "95900d7f-69b4-44d1-c284-ff7301eda599"
      },
      "source": [
        "numOfIteration = 100 \n",
        "cost = np.zeros((numOfIteration,1))\n",
        "learning_rate = 0.000001\n",
        "for i in range(0, numOfIteration): \n",
        "  r = np.dot(x, w) - y\n",
        "  cost[i] = 0.5*np.sum(r*r)\n",
        "  #correct the shape dimension \n",
        "  w = w - learning_rate * np.dot(x.T, r)\n",
        "  print('step {}, cost: {}'.format(i, cost[i]))"
      ],
      "execution_count": null,
      "outputs": [
        {
          "output_type": "stream",
          "text": [
            "step 0, cost: [15902997.58986438]\n",
            "step 1, cost: [15898056.0707828]\n",
            "step 2, cost: [15893116.08753786]\n",
            "step 3, cost: [15888177.63965224]\n",
            "step 4, cost: [15883240.72664872]\n",
            "step 5, cost: [15878305.34805028]\n",
            "step 6, cost: [15873371.50337999]\n",
            "step 7, cost: [15868439.19216114]\n",
            "step 8, cost: [15863508.4139171]\n",
            "step 9, cost: [15858579.16817143]\n",
            "step 10, cost: [15853651.45444782]\n",
            "step 11, cost: [15848725.27227013]\n",
            "step 12, cost: [15843800.62116233]\n",
            "step 13, cost: [15838877.50064856]\n",
            "step 14, cost: [15833955.91025313]\n",
            "step 15, cost: [15829035.84950045]\n",
            "step 16, cost: [15824117.31791512]\n",
            "step 17, cost: [15819200.31502187]\n",
            "step 18, cost: [15814284.84034557]\n",
            "step 19, cost: [15809370.89341125]\n",
            "step 20, cost: [15804458.47374408]\n",
            "step 21, cost: [15799547.58086939]\n",
            "step 22, cost: [15794638.21431264]\n",
            "step 23, cost: [15789730.37359946]\n",
            "step 24, cost: [15784824.0582556]\n",
            "step 25, cost: [15779919.26780697]\n",
            "step 26, cost: [15775016.00177965]\n",
            "step 27, cost: [15770114.25969982]\n",
            "step 28, cost: [15765214.04109385]\n",
            "step 29, cost: [15760315.34548823]\n",
            "step 30, cost: [15755418.17240962]\n",
            "step 31, cost: [15750522.5213848]\n",
            "step 32, cost: [15745628.39194072]\n",
            "step 33, cost: [15740735.78360447]\n",
            "step 34, cost: [15735844.69590328]\n",
            "step 35, cost: [15730955.12836454]\n",
            "step 36, cost: [15726067.08051578]\n",
            "step 37, cost: [15721180.55188467]\n",
            "step 38, cost: [15716295.54199904]\n",
            "step 39, cost: [15711412.05038685]\n",
            "step 40, cost: [15706530.07657623]\n",
            "step 41, cost: [15701649.62009542]\n",
            "step 42, cost: [15696770.68047286]\n",
            "step 43, cost: [15691893.25723709]\n",
            "step 44, cost: [15687017.34991682]\n",
            "step 45, cost: [15682142.95804089]\n",
            "step 46, cost: [15677270.0811383]\n",
            "step 47, cost: [15672398.7187382]\n",
            "step 48, cost: [15667528.87036987]\n",
            "step 49, cost: [15662660.53556276]\n",
            "step 50, cost: [15657793.71384642]\n",
            "step 51, cost: [15652928.40475061]\n",
            "step 52, cost: [15648064.60780519]\n",
            "step 53, cost: [15643202.32254018]\n",
            "step 54, cost: [15638341.54848574]\n",
            "step 55, cost: [15633482.28517219]\n",
            "step 56, cost: [15628624.53212999]\n",
            "step 57, cost: [15623768.28888974]\n",
            "step 58, cost: [15618913.55498219]\n",
            "step 59, cost: [15614060.32993823]\n",
            "step 60, cost: [15609208.61328891]\n",
            "step 61, cost: [15604358.40456542]\n",
            "step 62, cost: [15599509.70329908]\n",
            "step 63, cost: [15594662.50902138]\n",
            "step 64, cost: [15589816.82126393]\n",
            "step 65, cost: [15584972.63955852]\n",
            "step 66, cost: [15580129.96343705]\n",
            "step 67, cost: [15575288.79243159]\n",
            "step 68, cost: [15570449.12607433]\n",
            "step 69, cost: [15565610.96389764]\n",
            "step 70, cost: [15560774.30543401]\n",
            "step 71, cost: [15555939.15021608]\n",
            "step 72, cost: [15551105.49777664]\n",
            "step 73, cost: [15546273.34764862]\n",
            "step 74, cost: [15541442.6993651]\n",
            "step 75, cost: [15536613.5524593]\n",
            "step 76, cost: [15531785.9064646]\n",
            "step 77, cost: [15526959.7609145]\n",
            "step 78, cost: [15522135.11534265]\n",
            "step 79, cost: [15517311.96928287]\n",
            "step 80, cost: [15512490.32226911]\n",
            "step 81, cost: [15507670.17383546]\n",
            "step 82, cost: [15502851.52351614]\n",
            "step 83, cost: [15498034.37084554]\n",
            "step 84, cost: [15493218.71535821]\n",
            "step 85, cost: [15488404.55658879]\n",
            "step 86, cost: [15483591.89407211]\n",
            "step 87, cost: [15478780.72734314]\n",
            "step 88, cost: [15473971.05593697]\n",
            "step 89, cost: [15469162.87938885]\n",
            "step 90, cost: [15464356.19723419]\n",
            "step 91, cost: [15459551.00900851]\n",
            "step 92, cost: [15454747.31424751]\n",
            "step 93, cost: [15449945.11248701]\n",
            "step 94, cost: [15445144.40326298]\n",
            "step 95, cost: [15440345.18611153]\n",
            "step 96, cost: [15435547.46056893]\n",
            "step 97, cost: [15430751.22617158]\n",
            "step 98, cost: [15425956.48245604]\n",
            "step 99, cost: [15421163.22895898]\n"
          ],
          "name": "stdout"
        }
      ]
    },
    {
      "cell_type": "code",
      "metadata": {
        "id": "utaSvJ8vs7mq",
        "colab": {
          "base_uri": "https://localhost:8080/",
          "height": 51
        },
        "outputId": "d5ce2b96-f922-469e-ead9-9c03ea4d2697"
      },
      "source": [
        "w"
      ],
      "execution_count": null,
      "outputs": [
        {
          "output_type": "execute_result",
          "data": {
            "text/plain": [
              "array([[0.],\n",
              "       [1.]])"
            ]
          },
          "metadata": {
            "tags": []
          },
          "execution_count": 91
        }
      ]
    },
    {
      "cell_type": "code",
      "metadata": {
        "id": "rV1B880-rhW-",
        "colab": {
          "base_uri": "https://localhost:8080/",
          "height": 280
        },
        "outputId": "304291a3-040a-4447-a173-e5fcdf3dad82"
      },
      "source": [
        "predict = np.dot(x, w) \n",
        "plt.plot((x[0][1], x[N-1][1]),(predict[0], predict[N-1]), 'r')\n",
        "x = data[:, 0].reshape(-1, 1)\n",
        "y = data[:, 1].reshape(-1, 1)\n",
        "plt.scatter(x, y)\n",
        "plt.xlabel('mét vuông')\n",
        "plt.ylabel('giá')\n",
        "plt.show()"
      ],
      "execution_count": null,
      "outputs": [
        {
          "output_type": "display_data",
          "data": {
            "image/png": "[encoded data removed]",
            "text/plain": [
              "<Figure size 432x288 with 1 Axes>"
            ]
          },
          "metadata": {
            "tags": [],
            "needs_background": "light"
          }
        }
      ]
    },
    {
      "cell_type": "code",
      "metadata": {
        "id": "TWhUrSJWxJP2",
        "colab": {
          "base_uri": "https://localhost:8080/",
          "height": 325
        },
        "outputId": "96c46a7b-0802-4aea-bb04-73a6542aacca"
      },
      "source": [
        "x = np.hstack((np.ones((N, 1)), x))\n",
        "\n",
        "w = np.array([0.,1.]).reshape(-1,1)\n",
        "\n",
        "numOfIteration = 100\n",
        "cost = np.zeros((numOfIteration,1))\n",
        "learning_rate = 0.001\n",
        "for i in range(0, numOfIteration): \n",
        "  r = np.dot(x, w) - y \n",
        "  cost[i] = 0.5*np.sum(r*r) \n",
        "  w = w - learning_rate * np.dot(x.T, r) # Update w\n",
        "predict = np.dot(x, w)\n",
        "plt.plot((x[0][1], x[N-1][1]), (predict[0], predict[N-1]), 'r')\n",
        "x = data[:, 0].reshape(-1, 1)\n",
        "y = data[:, 1].reshape(-1, 1)\n",
        "plt.scatter(x,y)\n",
        "plt.xlabel('mét vuông')\n",
        "plt.ylabel('giá')\n",
        "plt.show()"
      ],
      "execution_count": null,
      "outputs": [
        {
          "output_type": "stream",
          "text": [
            "/usr/local/lib/python3.6/dist-packages/ipykernel_launcher.py:10: RuntimeWarning: overflow encountered in multiply\n",
            "  # Remove the CWD from sys.path while we load stuff.\n"
          ],
          "name": "stderr"
        },
        {
          "output_type": "display_data",
          "data": {
            "image/png": "[encoded data removed]",
            "text/plain": [
              "<Figure size 432x288 with 1 Axes>"
            ]
          },
          "metadata": {
            "tags": [],
            "needs_background": "light"
          }
        }
      ]
    },
    {
      "cell_type": "code",
      "metadata": {
        "id": "4sdO90OG-K_Q"
      },
      "source": [
        "def computeLoss(x, w):\n",
        "  M = len(x)\n",
        "  total = 0\n",
        "  for i in range(M): \n",
        "    W = computew(x[i])\n",
        "    diff = W - w[i]\n",
        "    diff = diff**2\n",
        "    total = total + diff\n",
        "  Loss = (1/(2*M))*total \n",
        "  return Loss"
      ],
      "execution_count": null,
      "outputs": []
    },
    {
      "cell_type": "code",
      "metadata": {
        "id": "ZwkF157MzdvC",
        "colab": {
          "base_uri": "https://localhost:8080/",
          "height": 34
        },
        "outputId": "606c9b31-11f6-47fb-f5c2-e68dc3b5031a"
      },
      "source": [
        "x1 = 70\n",
        "y1 = w[0] + w[1] * 70\n",
        "print('Giá nhà cho 70m^2 là: ', y1)"
      ],
      "execution_count": null,
      "outputs": [
        {
          "output_type": "stream",
          "text": [
            "Giá nhà cho 70m^2 là:  [1057.88528332]\n"
          ],
          "name": "stdout"
        }
      ]
    },
    {
      "cell_type": "code",
      "metadata": {
        "id": "2gMhh30svq4r",
        "colab": {
          "base_uri": "https://localhost:8080/",
          "height": 34
        },
        "outputId": "dc4ab5ed-0f74-40a6-84de-21cb857b20c2"
      },
      "source": [
        "x1 = 50 \n",
        "y1 = w[0] + w[1] * 50 \n",
        "print('Giá nhà cho 50m^2 là: ', y1)"
      ],
      "execution_count": null,
      "outputs": [
        {
          "output_type": "stream",
          "text": [
            "Giá nhà cho 50m^2 là:  [755.68797748]\n"
          ],
          "name": "stdout"
        }
      ]
    },
    {
      "cell_type": "code",
      "metadata": {
        "id": "8Nri6nptGO9Y"
      },
      "source": [
        "import numpy as np\n",
        "import pandas as pd\n",
        "import matplotlib.pyplot as plt \n",
        "\n",
        "def sigmoid(x): \n",
        "  return 1 / (1 + np.exp(-x))"
      ],
      "execution_count": null,
      "outputs": []
    },
    {
      "cell_type": "code",
      "metadata": {
        "id": "Lk29Gchi3e1M",
        "colab": {
          "base_uri": "https://localhost:8080/",
          "height": 297
        },
        "outputId": "6b6afd14-176a-49df-ca2a-29276ce43177"
      },
      "source": [
        "data = pd.read_csv('/content/drive/My Drive/Colab Notebooks/HW1_DL/data_square.csv').values\n",
        "N = data.shape[0]\n",
        "x = data[:, 0].reshape(-1, 1)\n",
        "y = data[:, 1].reshape(-1, 1)\n",
        "plt.scatter(x, y) \n",
        "plt.xlabel('mét vuông')\n",
        "plt.ylabel('giá')\n"
      ],
      "execution_count": null,
      "outputs": [
        {
          "output_type": "execute_result",
          "data": {
            "text/plain": [
              "Text(0, 0.5, 'giá')"
            ]
          },
          "metadata": {
            "tags": []
          },
          "execution_count": 161
        },
        {
          "output_type": "display_data",
          "data": {
            "image/png": "[encoded data removed]",
            "text/plain": [
              "<Figure size 432x288 with 1 Axes>"
            ]
          },
          "metadata": {
            "tags": [],
            "needs_background": "light"
          }
        }
      ]
    },
    {
      "cell_type": "code",
      "metadata": {
        "id": "UdKgSrniBsf6"
      },
      "source": [
        "from sklearn.linear_model import LinearRegression  \n",
        "reg = LinearRegression().fit(x, y)"
      ],
      "execution_count": null,
      "outputs": []
    },
    {
      "cell_type": "code",
      "metadata": {
        "id": "ni07mdVdB4nl",
        "colab": {
          "base_uri": "https://localhost:8080/",
          "height": 280
        },
        "outputId": "47e4a5c1-4e95-4412-b1b7-3551836802da"
      },
      "source": [
        "predict = reg.predict(x)\n",
        "plt.plot((x[0][0], x[N-1][0]), (predict[0], predict[N-1]), 'r')\n",
        "x = data[:, 0].reshape(-1, 1)\n",
        "y = data[:, 1].reshape(-1, 1)\n",
        "plt.scatter(x, y) \n",
        "plt.xlabel('mét vuông')\n",
        "plt.ylabel('giá')\n",
        "plt.show()"
      ],
      "execution_count": null,
      "outputs": [
        {
          "output_type": "display_data",
          "data": {
            "image/png": "[encoded data removed]",
            "text/plain": [
              "<Figure size 432x288 with 1 Axes>"
            ]
          },
          "metadata": {
            "tags": [],
            "needs_background": "light"
          }
        }
      ]
    },
    {
      "cell_type": "code",
      "metadata": {
        "id": "OWa9t32vDmDQ",
        "colab": {
          "base_uri": "https://localhost:8080/",
          "height": 544
        },
        "outputId": "71fcd7e8-dba5-4ecf-f188-5fb413f902d2"
      },
      "source": [
        "x = data[:, 0].reshape(-1, 1)\n",
        "y = data[:, 1].reshape(-1, 1)\n",
        "x = np.stack([x, np.square(x)], axis=-1)\n",
        "x = x.reshape(x.shape[0], x.shape[-1])\n",
        "print(x.shape)\n",
        "x"
      ],
      "execution_count": null,
      "outputs": [
        {
          "output_type": "stream",
          "text": [
            "(30, 2)\n"
          ],
          "name": "stdout"
        },
        {
          "output_type": "execute_result",
          "data": {
            "text/plain": [
              "array([[   30.        ,   900.        ],\n",
              "       [   32.4138    ,  1050.65443044],\n",
              "       [   34.8276    ,  1212.96172176],\n",
              "       [   37.2414    ,  1386.92187396],\n",
              "       [   39.6552    ,  1572.53488704],\n",
              "       [   42.069     ,  1769.800761  ],\n",
              "       [   44.4828    ,  1978.71949584],\n",
              "       [   46.8966    ,  2199.29109156],\n",
              "       [   49.3103    ,  2431.50568609],\n",
              "       [   51.7241    ,  2675.38252081],\n",
              "       [   54.1379    ,  2930.91221641],\n",
              "       [   56.5517    ,  3198.09477289],\n",
              "       [   58.9655    ,  3476.93019025],\n",
              "       [   61.3793    ,  3767.41846849],\n",
              "       [   63.7931    ,  4069.55960761],\n",
              "       [   66.2069    ,  4383.35360761],\n",
              "       [   68.6207    ,  4708.80046849],\n",
              "       [   71.0345    ,  5045.90019025],\n",
              "       [   73.4483    ,  5394.65277289],\n",
              "       [   75.8621    ,  5755.05821641],\n",
              "       [   78.2759    ,  6127.11652081],\n",
              "       [   80.6897    ,  6510.82768609],\n",
              "       [   83.1034    ,  6906.17509156],\n",
              "       [   85.5172    ,  7313.19149584],\n",
              "       [   87.931     ,  7731.860761  ],\n",
              "       [   90.3448    ,  8162.18288704],\n",
              "       [   92.7586    ,  8604.15787396],\n",
              "       [   95.1724    ,  9057.78572176],\n",
              "       [   97.5862    ,  9523.06643044],\n",
              "       [  100.        , 10000.        ]])"
            ]
          },
          "metadata": {
            "tags": []
          },
          "execution_count": 164
        }
      ]
    },
    {
      "cell_type": "code",
      "metadata": {
        "id": "AYl68zRnJd18"
      },
      "source": [
        "reg = LinearRegression().fit(x, y)"
      ],
      "execution_count": null,
      "outputs": []
    },
    {
      "cell_type": "code",
      "metadata": {
        "id": "aDc4pIuBJjin",
        "colab": {
          "base_uri": "https://localhost:8080/",
          "height": 280
        },
        "outputId": "cfea6615-d228-459f-f17a-020f1f5802a2"
      },
      "source": [
        "cell = \"\"\"\n",
        "a = []\n",
        "b = []\n",
        "for i in range(30,100,1):\n",
        "  j = reg.coef_[0][0] * 1 + reg.coef_[0][1] * i + reg.intercept_\n",
        "  a.append(i)\n",
        "  b.append(j)\n",
        "\n",
        "plt.scatter(a, b, c='r')\n",
        "\n",
        "x = data[:, 0].reshape(-1, 1)\n",
        "y = data[:, 1].reshape(-1, 1)\n",
        "plt.scatter(x, y, c='b')\n",
        "\n",
        "plt.xlabel('mét vuông')\n",
        "plt.ylabel('giá')\n",
        "plt.show()\n"
      ],
      "execution_count": null,
      "outputs": [
        {
          "output_type": "display_data",
          "data": {
            "image/png": "[encoded data removed]",
            "text/plain": [
              "<Figure size 432x288 with 1 Axes>"
            ]
          },
          "metadata": {
            "tags": [],
            "needs_background": "light"
          }
        }
      ]
    },
    {
      "cell_type": "code",
      "metadata": {
        "id": "Puy0HR-KERLb"
      },
      "source": [
        "\n",
        "x = np.hstack((np.ones((N, 1)), x))\n",
        "\n",
        "w = np.array([0.,0.1,0.1]).reshape(-1,1)\n"
      ],
      "execution_count": null,
      "outputs": []
    },
    {
      "cell_type": "code",
      "metadata": {
        "id": "b3yzcx4hEwZb",
        "colab": {
          "base_uri": "https://localhost:8080/",
          "height": 368
        },
        "outputId": "36bd919f-8122-4900-c056-8af2d0586632"
      },
      "source": [
        "numOfIteration = 1000 \n",
        "cost = np.zeros((numOfIteration,1))\n",
        "learning_rate = 0.0000001\n",
        "for i in range(1, numOfIteration): \n",
        "  y_predict = sigmoid(np.dot(x, w))\n",
        "  cost[i] = -np.sum(np.multiply(y, np.log(y_predict)) + np.multiply(1-y, np.log(1-y_predict)))\n",
        "  w = w - learning_rate * np.dot(x.T, y_predict-y)\n",
        "  #print(cost[i])\n",
        "\n",
        "plt.plot((x[0][1], x[N-1][1]), (y_predict[0], y_predict[N-1]), 'r')\n",
        "x = data[:, 0].reshape(-1, 1)\n",
        "y = data[:, 1].reshape(-1, 1)\n",
        "plt.scatter(x, y)\n",
        "plt.xlabel('mét vuông')\n",
        "plt.ylabel('giá')\n",
        "plt.show()"
      ],
      "execution_count": null,
      "outputs": [
        {
          "output_type": "stream",
          "text": [
            "/usr/local/lib/python3.6/dist-packages/ipykernel_launcher.py:6: RuntimeWarning: divide by zero encountered in log\n",
            "  \n",
            "/usr/local/lib/python3.6/dist-packages/numpy/core/fromnumeric.py:90: RuntimeWarning: invalid value encountered in reduce\n",
            "  return ufunc.reduce(obj, axis, dtype, out, **passkwargs)\n"
          ],
          "name": "stderr"
        },
        {
          "output_type": "display_data",
          "data": {
            "image/png": "[encoded data removed]",
            "text/plain": [
              "<Figure size 432x288 with 1 Axes>"
            ]
          },
          "metadata": {
            "tags": [],
            "needs_background": "light"
          }
        }
      ]
    }
  ]
}